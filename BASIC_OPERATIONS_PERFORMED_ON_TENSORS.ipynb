{
  "nbformat": 4,
  "nbformat_minor": 0,
  "metadata": {
    "colab": {
      "name": "BASIC OPERATIONS PERFORMED ON TENSORS",
      "provenance": [],
      "authorship_tag": "ABX9TyNgQiRaKyjEPhglBHNK4AjM",
      "include_colab_link": true
    },
    "kernelspec": {
      "name": "python3",
      "display_name": "Python 3"
    },
    "language_info": {
      "name": "python"
    }
  },
  "cells": [
    {
      "cell_type": "markdown",
      "metadata": {
        "id": "view-in-github",
        "colab_type": "text"
      },
      "source": [
        "<a href=\"https://colab.research.google.com/github/Bobbyorr007/BASIC-OPERATIONS-PERFORMED-ON-TENSORS/blob/main/BASIC_OPERATIONS_PERFORMED_ON_TENSORS.ipynb\" target=\"_parent\"><img src=\"https://colab.research.google.com/assets/colab-badge.svg\" alt=\"Open In Colab\"/></a>"
      ]
    },
    {
      "cell_type": "markdown",
      "source": [
        "**IMPORTS**"
      ],
      "metadata": {
        "id": "MLor_6xfXf59"
      }
    },
    {
      "cell_type": "code",
      "source": [
        "import numpy as np\n",
        "import tensorflow as tf"
      ],
      "metadata": {
        "id": "q4A0S153XfAg"
      },
      "execution_count": 1,
      "outputs": []
    },
    {
      "cell_type": "markdown",
      "source": [
        "**EXERCISE ON BASIC TENSORS**\n",
        "\n",
        "I created a single dimensional numpy array of size 50, holding values from 0 to 49. "
      ],
      "metadata": {
        "id": "ls3OKlp0YTXW"
      }
    },
    {
      "cell_type": "code",
      "source": [
        "# Create a 1d uint8 NumPy array comprising of the first 50 natural numbers\n",
        "x = np.arange(0,50)\n",
        "x"
      ],
      "metadata": {
        "colab": {
          "base_uri": "https://localhost:8080/"
        },
        "id": "GZCQoN0-Y1eQ",
        "outputId": "ed540569-c8f3-442f-9bd2-c5178e6edead"
      },
      "execution_count": 3,
      "outputs": [
        {
          "output_type": "execute_result",
          "data": {
            "text/plain": [
              "array([ 0,  1,  2,  3,  4,  5,  6,  7,  8,  9, 10, 11, 12, 13, 14, 15, 16,\n",
              "       17, 18, 19, 20, 21, 22, 23, 24, 25, 26, 27, 28, 29, 30, 31, 32, 33,\n",
              "       34, 35, 36, 37, 38, 39, 40, 41, 42, 43, 44, 45, 46, 47, 48, 49])"
            ]
          },
          "metadata": {},
          "execution_count": 3
        }
      ]
    },
    {
      "cell_type": "markdown",
      "source": [
        "I Changed my numpy array into a tensor"
      ],
      "metadata": {
        "id": "2E9_i7pucmgP"
      }
    },
    {
      "cell_type": "code",
      "source": [
        "# Convert NumPy array into a tensor using the 'tf.constant'\n",
        "x = tf.constant(x)\n",
        "x"
      ],
      "metadata": {
        "colab": {
          "base_uri": "https://localhost:8080/"
        },
        "id": "51CoxpSfclUK",
        "outputId": "d5dc34f9-9f5e-424f-f488-54188f22fac3"
      },
      "execution_count": 4,
      "outputs": [
        {
          "output_type": "execute_result",
          "data": {
            "text/plain": [
              "<tf.Tensor: shape=(50,), dtype=int64, numpy=\n",
              "array([ 0,  1,  2,  3,  4,  5,  6,  7,  8,  9, 10, 11, 12, 13, 14, 15, 16,\n",
              "       17, 18, 19, 20, 21, 22, 23, 24, 25, 26, 27, 28, 29, 30, 31, 32, 33,\n",
              "       34, 35, 36, 37, 38, 39, 40, 41, 42, 43, 44, 45, 46, 47, 48, 49])>"
            ]
          },
          "metadata": {},
          "execution_count": 4
        }
      ]
    },
    {
      "cell_type": "markdown",
      "source": [
        "I squared(element-wise) all the values in my tensor x."
      ],
      "metadata": {
        "id": "GYjspiImdRH5"
      }
    },
    {
      "cell_type": "code",
      "source": [
        "# Square the input tensor x\n",
        "x = tf.square(x)\n",
        "x"
      ],
      "metadata": {
        "colab": {
          "base_uri": "https://localhost:8080/"
        },
        "id": "iooVnSRVZGfO",
        "outputId": "30016fc2-ab83-4d7b-de39-9e6b30245fd2"
      },
      "execution_count": 5,
      "outputs": [
        {
          "output_type": "execute_result",
          "data": {
            "text/plain": [
              "<tf.Tensor: shape=(50,), dtype=int64, numpy=\n",
              "array([   0,    1,    4,    9,   16,   25,   36,   49,   64,   81,  100,\n",
              "        121,  144,  169,  196,  225,  256,  289,  324,  361,  400,  441,\n",
              "        484,  529,  576,  625,  676,  729,  784,  841,  900,  961, 1024,\n",
              "       1089, 1156, 1225, 1296, 1369, 1444, 1521, 1600, 1681, 1764, 1849,\n",
              "       1936, 2025, 2116, 2209, 2304, 2401])>"
            ]
          },
          "metadata": {},
          "execution_count": 5
        }
      ]
    },
    {
      "cell_type": "markdown",
      "source": [
        "One feature of tensors is that it can be reshaped. while reshaping make sure to use dimensions that will include all values of your Tensor.\n"
      ],
      "metadata": {
        "id": "5t56N8KZdztX"
      }
    },
    {
      "cell_type": "code",
      "source": [
        "# Reshape Tensor into (5 x 10) matrics...\n",
        "x = tf.reshape(x, (5,10))\n",
        "x"
      ],
      "metadata": {
        "colab": {
          "base_uri": "https://localhost:8080/"
        },
        "id": "mlzWvoHwcimh",
        "outputId": "e3d86a75-2790-46ba-9944-257a325871b3"
      },
      "execution_count": 7,
      "outputs": [
        {
          "output_type": "execute_result",
          "data": {
            "text/plain": [
              "<tf.Tensor: shape=(5, 10), dtype=int64, numpy=\n",
              "array([[   0,    1,    4,    9,   16,   25,   36,   49,   64,   81],\n",
              "       [ 100,  121,  144,  169,  196,  225,  256,  289,  324,  361],\n",
              "       [ 400,  441,  484,  529,  576,  625,  676,  729,  784,  841],\n",
              "       [ 900,  961, 1024, 1089, 1156, 1225, 1296, 1369, 1444, 1521],\n",
              "       [1600, 1681, 1764, 1849, 1936, 2025, 2116, 2209, 2304, 2401]])>"
            ]
          },
          "metadata": {},
          "execution_count": 7
        }
      ]
    },
    {
      "cell_type": "markdown",
      "source": [
        "Just like reshaping Tensor, we can also change the data type of Tensors. I will change the data type of my tensor(x) from an int to float."
      ],
      "metadata": {
        "id": "UvpWkVaxfMM4"
      }
    },
    {
      "cell_type": "code",
      "source": [
        "# cast tensor x into a float32 dtype\n",
        "x = tf.cast(x, tf.float32)\n",
        "x"
      ],
      "metadata": {
        "colab": {
          "base_uri": "https://localhost:8080/"
        },
        "id": "IVeioHEFetDx",
        "outputId": "62a56734-64c5-46c0-b952-ceb5d7eaa790"
      },
      "execution_count": 9,
      "outputs": [
        {
          "output_type": "execute_result",
          "data": {
            "text/plain": [
              "<tf.Tensor: shape=(5, 10), dtype=float32, numpy=\n",
              "array([[0.000e+00, 1.000e+00, 4.000e+00, 9.000e+00, 1.600e+01, 2.500e+01,\n",
              "        3.600e+01, 4.900e+01, 6.400e+01, 8.100e+01],\n",
              "       [1.000e+02, 1.210e+02, 1.440e+02, 1.690e+02, 1.960e+02, 2.250e+02,\n",
              "        2.560e+02, 2.890e+02, 3.240e+02, 3.610e+02],\n",
              "       [4.000e+02, 4.410e+02, 4.840e+02, 5.290e+02, 5.760e+02, 6.250e+02,\n",
              "        6.760e+02, 7.290e+02, 7.840e+02, 8.410e+02],\n",
              "       [9.000e+02, 9.610e+02, 1.024e+03, 1.089e+03, 1.156e+03, 1.225e+03,\n",
              "        1.296e+03, 1.369e+03, 1.444e+03, 1.521e+03],\n",
              "       [1.600e+03, 1.681e+03, 1.764e+03, 1.849e+03, 1.936e+03, 2.025e+03,\n",
              "        2.116e+03, 2.209e+03, 2.304e+03, 2.401e+03]], dtype=float32)>"
            ]
          },
          "metadata": {},
          "execution_count": 9
        }
      ]
    },
    {
      "cell_type": "markdown",
      "source": [
        "I created a single value Tensor(float32) in other to show the power of broadcasting. "
      ],
      "metadata": {
        "id": "VeAYGdTMi_AM"
      }
    },
    {
      "cell_type": "code",
      "source": [
        "# I created a single value tensor of dtype float32 to show thw power of broadcasting in the following cell.\n",
        "y = tf.constant(2, dtype=tf.float32)\n",
        "y"
      ],
      "metadata": {
        "colab": {
          "base_uri": "https://localhost:8080/"
        },
        "id": "QfSpUEKmfFt5",
        "outputId": "3a2c6983-bb5e-4720-bb6e-395e8d8d9ece"
      },
      "execution_count": 10,
      "outputs": [
        {
          "output_type": "execute_result",
          "data": {
            "text/plain": [
              "<tf.Tensor: shape=(), dtype=float32, numpy=2.0>"
            ]
          },
          "metadata": {},
          "execution_count": 10
        }
      ]
    },
    {
      "cell_type": "markdown",
      "source": [
        "I mutiplied the tensor x and y together and experienced the power of broadcasting. The single value tensor (y), multiplied each value/element of the tensor x."
      ],
      "metadata": {
        "id": "vrTQ0Lxdkvks"
      }
    },
    {
      "cell_type": "code",
      "source": [
        "# Multiply tensor x by y. tensor y is multilied to each element of tensor x.\n",
        "result = tf.multiply(x,y)\n",
        "result"
      ],
      "metadata": {
        "colab": {
          "base_uri": "https://localhost:8080/"
        },
        "id": "W7ovQlDnkFLf",
        "outputId": "1add1c0b-9150-49e1-b0c9-405834ae35e4"
      },
      "execution_count": 12,
      "outputs": [
        {
          "output_type": "execute_result",
          "data": {
            "text/plain": [
              "<tf.Tensor: shape=(5, 10), dtype=float32, numpy=\n",
              "array([[0.000e+00, 2.000e+00, 8.000e+00, 1.800e+01, 3.200e+01, 5.000e+01,\n",
              "        7.200e+01, 9.800e+01, 1.280e+02, 1.620e+02],\n",
              "       [2.000e+02, 2.420e+02, 2.880e+02, 3.380e+02, 3.920e+02, 4.500e+02,\n",
              "        5.120e+02, 5.780e+02, 6.480e+02, 7.220e+02],\n",
              "       [8.000e+02, 8.820e+02, 9.680e+02, 1.058e+03, 1.152e+03, 1.250e+03,\n",
              "        1.352e+03, 1.458e+03, 1.568e+03, 1.682e+03],\n",
              "       [1.800e+03, 1.922e+03, 2.048e+03, 2.178e+03, 2.312e+03, 2.450e+03,\n",
              "        2.592e+03, 2.738e+03, 2.888e+03, 3.042e+03],\n",
              "       [3.200e+03, 3.362e+03, 3.528e+03, 3.698e+03, 3.872e+03, 4.050e+03,\n",
              "        4.232e+03, 4.418e+03, 4.608e+03, 4.802e+03]], dtype=float32)>"
            ]
          },
          "metadata": {},
          "execution_count": 12
        }
      ]
    },
    {
      "cell_type": "markdown",
      "source": [
        "I reinitiaized Tensor y to having more values."
      ],
      "metadata": {
        "id": "OXsC5RPJlzI-"
      }
    },
    {
      "cell_type": "code",
      "source": [
        "# Reinitialize y to having more values\n",
        "y = tf.constant([1,2,3,4,5,6,7,8,9,0], dtype=tf.float32)\n",
        "y"
      ],
      "metadata": {
        "colab": {
          "base_uri": "https://localhost:8080/"
        },
        "id": "mLBqWi3vlbaR",
        "outputId": "4c7b130c-fed2-493b-b015-615b8b080108"
      },
      "execution_count": 15,
      "outputs": [
        {
          "output_type": "execute_result",
          "data": {
            "text/plain": [
              "<tf.Tensor: shape=(10,), dtype=float32, numpy=array([1., 2., 3., 4., 5., 6., 7., 8., 9., 0.], dtype=float32)>"
            ]
          },
          "metadata": {},
          "execution_count": 15
        }
      ]
    },
    {
      "cell_type": "markdown",
      "source": [
        "I added both tensors together and noticed the addition was done in rows.\n",
        "The tensor 'y' summed up with the first row of tensor 'x' then moved on to the next row, and the next and so on."
      ],
      "metadata": {
        "id": "Gntv8ie6m7JJ"
      }
    },
    {
      "cell_type": "code",
      "source": [
        "# Add tensor x and y together, and notice the summation in rows.\n",
        "result = x + y\n",
        "result "
      ],
      "metadata": {
        "colab": {
          "base_uri": "https://localhost:8080/"
        },
        "id": "z1-Nf7wwmJzv",
        "outputId": "b2ba13ac-730f-4232-e0f7-cedf827ea047"
      },
      "execution_count": 18,
      "outputs": [
        {
          "output_type": "execute_result",
          "data": {
            "text/plain": [
              "<tf.Tensor: shape=(5, 10), dtype=float32, numpy=\n",
              "array([[1.000e+00, 3.000e+00, 7.000e+00, 1.300e+01, 2.100e+01, 3.100e+01,\n",
              "        4.300e+01, 5.700e+01, 7.300e+01, 8.100e+01],\n",
              "       [1.010e+02, 1.230e+02, 1.470e+02, 1.730e+02, 2.010e+02, 2.310e+02,\n",
              "        2.630e+02, 2.970e+02, 3.330e+02, 3.610e+02],\n",
              "       [4.010e+02, 4.430e+02, 4.870e+02, 5.330e+02, 5.810e+02, 6.310e+02,\n",
              "        6.830e+02, 7.370e+02, 7.930e+02, 8.410e+02],\n",
              "       [9.010e+02, 9.630e+02, 1.027e+03, 1.093e+03, 1.161e+03, 1.231e+03,\n",
              "        1.303e+03, 1.377e+03, 1.453e+03, 1.521e+03],\n",
              "       [1.601e+03, 1.683e+03, 1.767e+03, 1.853e+03, 1.941e+03, 2.031e+03,\n",
              "        2.123e+03, 2.217e+03, 2.313e+03, 2.401e+03]], dtype=float32)>"
            ]
          },
          "metadata": {},
          "execution_count": 18
        }
      ]
    },
    {
      "cell_type": "markdown",
      "source": [
        "When usinf tf.constant, we can pass in a 1D array and using the shape parameter to change into a multi-dimensional array."
      ],
      "metadata": {
        "id": "09BsNjL4rUw6"
      }
    },
    {
      "cell_type": "code",
      "source": [
        "# creating a 1D array with tf.constant and using the shape parameter to change into a 2D array.\n",
        "x = tf.constant([1234], tf.float32, shape=(2,2))\n",
        "x"
      ],
      "metadata": {
        "colab": {
          "base_uri": "https://localhost:8080/"
        },
        "id": "Cdqygi-NmhI2",
        "outputId": "9dd56f1d-769c-40f0-ffdc-9d9a30f92aef"
      },
      "execution_count": 21,
      "outputs": [
        {
          "output_type": "execute_result",
          "data": {
            "text/plain": [
              "<tf.Tensor: shape=(2, 2), dtype=float32, numpy=\n",
              "array([[1234., 1234.],\n",
              "       [1234., 1234.]], dtype=float32)>"
            ]
          },
          "metadata": {},
          "execution_count": 21
        }
      ]
    },
    {
      "cell_type": "markdown",
      "source": [
        "This isnt the case with a tf.Variable created Tensor\n"
      ],
      "metadata": {
        "id": "nYybJaCpsQqn"
      }
    },
    {
      "cell_type": "code",
      "source": [
        "# creating a 1D array with tf.Variable and using the shape parameter to change into a multi-dimension. NOTICE THE ValueError THATS POPS UP WHEN THE CODE BLOCK IS RAN\n",
        "x = tf.Variable([1,2,3,4], tf.float32, shape=(2,2))"
      ],
      "metadata": {
        "colab": {
          "base_uri": "https://localhost:8080/",
          "height": 363
        },
        "id": "Q3tK1l56mr8m",
        "outputId": "68a97b53-51c9-4505-faa5-0481ad837080"
      },
      "execution_count": 22,
      "outputs": [
        {
          "output_type": "error",
          "ename": "ValueError",
          "evalue": "ignored",
          "traceback": [
            "\u001b[0;31m---------------------------------------------------------------------------\u001b[0m",
            "\u001b[0;31mValueError\u001b[0m                                Traceback (most recent call last)",
            "\u001b[0;32m<ipython-input-22-3cf52a5642ee>\u001b[0m in \u001b[0;36m<module>\u001b[0;34m()\u001b[0m\n\u001b[1;32m      1\u001b[0m \u001b[0;31m# creating a 1D array with tf.Variable and using the shape parameter to change into a multi-dimension. NOTICE THE ValueError THATS POPS UP WHEN THE CODE BLOCK IS RAN\u001b[0m\u001b[0;34m\u001b[0m\u001b[0;34m\u001b[0m\u001b[0;34m\u001b[0m\u001b[0m\n\u001b[0;32m----> 2\u001b[0;31m \u001b[0mx\u001b[0m \u001b[0;34m=\u001b[0m \u001b[0mtf\u001b[0m\u001b[0;34m.\u001b[0m\u001b[0mVariable\u001b[0m\u001b[0;34m(\u001b[0m\u001b[0;34m[\u001b[0m\u001b[0;36m1\u001b[0m\u001b[0;34m,\u001b[0m\u001b[0;36m2\u001b[0m\u001b[0;34m,\u001b[0m\u001b[0;36m3\u001b[0m\u001b[0;34m,\u001b[0m\u001b[0;36m4\u001b[0m\u001b[0;34m]\u001b[0m\u001b[0;34m,\u001b[0m \u001b[0mtf\u001b[0m\u001b[0;34m.\u001b[0m\u001b[0mfloat32\u001b[0m\u001b[0;34m,\u001b[0m \u001b[0mshape\u001b[0m\u001b[0;34m=\u001b[0m\u001b[0;34m(\u001b[0m\u001b[0;36m2\u001b[0m\u001b[0;34m,\u001b[0m\u001b[0;36m2\u001b[0m\u001b[0;34m)\u001b[0m\u001b[0;34m)\u001b[0m\u001b[0;34m\u001b[0m\u001b[0;34m\u001b[0m\u001b[0m\n\u001b[0m",
            "\u001b[0;32m/usr/local/lib/python3.7/dist-packages/tensorflow/python/util/traceback_utils.py\u001b[0m in \u001b[0;36merror_handler\u001b[0;34m(*args, **kwargs)\u001b[0m\n\u001b[1;32m    151\u001b[0m     \u001b[0;32mexcept\u001b[0m \u001b[0mException\u001b[0m \u001b[0;32mas\u001b[0m \u001b[0me\u001b[0m\u001b[0;34m:\u001b[0m\u001b[0;34m\u001b[0m\u001b[0;34m\u001b[0m\u001b[0m\n\u001b[1;32m    152\u001b[0m       \u001b[0mfiltered_tb\u001b[0m \u001b[0;34m=\u001b[0m \u001b[0m_process_traceback_frames\u001b[0m\u001b[0;34m(\u001b[0m\u001b[0me\u001b[0m\u001b[0;34m.\u001b[0m\u001b[0m__traceback__\u001b[0m\u001b[0;34m)\u001b[0m\u001b[0;34m\u001b[0m\u001b[0;34m\u001b[0m\u001b[0m\n\u001b[0;32m--> 153\u001b[0;31m       \u001b[0;32mraise\u001b[0m \u001b[0me\u001b[0m\u001b[0;34m.\u001b[0m\u001b[0mwith_traceback\u001b[0m\u001b[0;34m(\u001b[0m\u001b[0mfiltered_tb\u001b[0m\u001b[0;34m)\u001b[0m \u001b[0;32mfrom\u001b[0m \u001b[0;32mNone\u001b[0m\u001b[0;34m\u001b[0m\u001b[0;34m\u001b[0m\u001b[0m\n\u001b[0m\u001b[1;32m    154\u001b[0m     \u001b[0;32mfinally\u001b[0m\u001b[0;34m:\u001b[0m\u001b[0;34m\u001b[0m\u001b[0;34m\u001b[0m\u001b[0m\n\u001b[1;32m    155\u001b[0m       \u001b[0;32mdel\u001b[0m \u001b[0mfiltered_tb\u001b[0m\u001b[0;34m\u001b[0m\u001b[0;34m\u001b[0m\u001b[0m\n",
            "\u001b[0;32m/usr/local/lib/python3.7/dist-packages/tensorflow/python/ops/resource_variable_ops.py\u001b[0m in \u001b[0;36m_init_from_args\u001b[0;34m(self, initial_value, trainable, collections, caching_device, name, dtype, constraint, synchronization, aggregation, distribute_strategy, shape)\u001b[0m\n\u001b[1;32m   1785\u001b[0m             \u001b[0;32mif\u001b[0m \u001b[0;32mnot\u001b[0m \u001b[0minitial_value\u001b[0m\u001b[0;34m.\u001b[0m\u001b[0mshape\u001b[0m\u001b[0;34m.\u001b[0m\u001b[0mis_compatible_with\u001b[0m\u001b[0;34m(\u001b[0m\u001b[0mshape\u001b[0m\u001b[0;34m)\u001b[0m\u001b[0;34m:\u001b[0m\u001b[0;34m\u001b[0m\u001b[0;34m\u001b[0m\u001b[0m\n\u001b[1;32m   1786\u001b[0m               raise ValueError(\n\u001b[0;32m-> 1787\u001b[0;31m                   \u001b[0;34mf\"In this `tf.Variable` creation, the initial value's shape \"\u001b[0m\u001b[0;34m\u001b[0m\u001b[0;34m\u001b[0m\u001b[0m\n\u001b[0m\u001b[1;32m   1788\u001b[0m                   \u001b[0;34mf\"({initial_value.shape}) is not compatible with \"\u001b[0m\u001b[0;34m\u001b[0m\u001b[0;34m\u001b[0m\u001b[0m\n\u001b[1;32m   1789\u001b[0m                   f\"the explicitly supplied `shape` argument ({shape}).\")\n",
            "\u001b[0;31mValueError\u001b[0m: In this `tf.Variable` creation, the initial value's shape ((4,)) is not compatible with the explicitly supplied `shape` argument ((2, 2))."
          ]
        }
      ]
    },
    {
      "cell_type": "code",
      "source": [
        ""
      ],
      "metadata": {
        "id": "5XNlKzrHmy1I"
      },
      "execution_count": null,
      "outputs": []
    }
  ]
}